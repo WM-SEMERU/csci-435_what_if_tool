{
 "cells": [
  {
   "cell_type": "markdown",
   "id": "619519a8",
   "metadata": {},
   "source": [
    "# Initial Commit\n",
    "First py notebook for full run through of data pipeline"
   ]
  },
  {
   "cell_type": "code",
   "execution_count": null,
   "id": "1f4e363f",
   "metadata": {},
   "outputs": [],
   "source": [
    "import os\n",
    "from transformers import pipeline, set_seed\n",
    "\n",
    "\n",
    "training_text_filename = \"method-generation.txt\"\n",
    "training_text_file_location = os.path.join(os.getcwd(), \"Train\", \"method-generation.txt\")\n",
    "\n",
    "generator = pipeline('text-generation', model='gpt2')\n",
    "set_seed(42)\n",
    "\n",
    "with open(training_text_file_location) as f:\n",
    "    data = f.read()"
   ]
  },
  {
   "cell_type": "code",
   "execution_count": null,
   "id": "b146ea69",
   "metadata": {},
   "outputs": [],
   "source": [
    "generated_text = generator(data, max_new_tokens=200, num_return_sequences=3)\n",
    "\n",
    "for a in range(len(generated_text)):\n",
    "    generated_text[a] = generated_text[a]['generated_text']\n",
    "    print(generated_text[a])"
   ]
  }
 ],
 "metadata": {
  "kernelspec": {
   "display_name": "Python 3.8.8 ('base')",
   "language": "python",
   "name": "python3"
  },
  "language_info": {
   "codemirror_mode": {
    "name": "ipython",
    "version": 3
   },
   "file_extension": ".py",
   "mimetype": "text/x-python",
   "name": "python",
   "nbconvert_exporter": "python",
   "pygments_lexer": "ipython3",
   "version": "3.8.8"
  },
  "vscode": {
   "interpreter": {
    "hash": "4ea1721d7fadea24e6840e529925348c2b6e25559d8bb511c630e839167e4b7a"
   }
  }
 },
 "nbformat": 4,
 "nbformat_minor": 5
}
