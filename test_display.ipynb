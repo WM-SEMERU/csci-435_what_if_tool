{
 "cells": [
  {
   "cell_type": "code",
   "execution_count": 1,
   "metadata": {},
   "outputs": [],
   "source": [
    "# can modify with just module name when pip installed\n",
    "# from codewit_semeru import WITCode\n",
    "from src.codewit_semeru import WITCode\n",
    "%load_ext autoreload\n",
    "%autoreload 2\n"
   ]
  },
  {
   "cell_type": "code",
   "execution_count": 2,
   "metadata": {},
   "outputs": [
    {
     "name": "stderr",
     "output_type": "stream",
     "text": [
      "Found cached dataset code_x_glue_cc_code_completion_line (/Users/dtran/.cache/huggingface/datasets/code_x_glue_cc_code_completion_line/python/0.0.0/4ce8a216b87c5b130aad675f2bbf3612cc1f7fa5dbdc2fcb9c412765cf7830a7)\n"
     ]
    },
    {
     "data": {
      "text/plain": [
       "['<s> from __future__ import abs',\n",
       " '<s> import diamond . collector',\n",
       " '<s> try : <EOL> from cStringIO']"
      ]
     },
     "execution_count": 2,
     "metadata": {},
     "output_type": "execute_result"
    }
   ],
   "source": [
    "from datasets import load_dataset\n",
    "\n",
    "NUM_DATA = 3\n",
    "DATA_LEN = 30\n",
    "\n",
    "dataset = load_dataset(\"code_x_glue_cc_code_completion_line\", \"python\", split=\"train\")\n",
    "pruned_dataset = [elem[:DATA_LEN] for elem in dataset[\"input\"][:NUM_DATA]]\n",
    "pruned_dataset"
   ]
  },
  {
   "cell_type": "code",
   "execution_count": 3,
   "metadata": {},
   "outputs": [
    {
     "name": "stdout",
     "output_type": "stream",
     "text": [
      "gpt2<>gpt2<>d83e6d65-73ca-420d-931d-a70e0d797b78\n",
      "Pipeline completed for pipe gpt2<>gpt2<>d83e6d65-73ca-420d-931d-a70e0d797b78\n"
     ]
    },
    {
     "data": {
      "text/html": [
       "\n",
       "        <iframe\n",
       "            width=\"100%\"\n",
       "            height=\"650\"\n",
       "            src=\"http://127.0.0.1:8050/\"\n",
       "            frameborder=\"0\"\n",
       "            allowfullscreen\n",
       "            \n",
       "        ></iframe>\n",
       "        "
      ],
      "text/plain": [
       "<IPython.lib.display.IFrame at 0x16a206040>"
      ]
     },
     "metadata": {},
     "output_type": "display_data"
    },
    {
     "name": "stdout",
     "output_type": "stream",
     "text": [
      "Processing gpt2<>gpt2<>d83e6d65-73ca-420d-931d-a70e0d797b78\n",
      "Please wait...\n",
      "pipeid:  gpt2<>gpt2<>d83e6d65-73ca-420d-931d-a70e0d797b78\n",
      "token_freq for mean:\n",
      "          token  frequency\n",
      "27            .   9.666667\n",
      "29  ĠCollection   8.333333\n",
      "8          Ġabs   6.000000\n",
      "9             ,   6.000000\n",
      "1             s   2.000000\n",
      "..          ...        ...\n",
      "32           Ġ<   0.333333\n",
      "33            E   0.333333\n",
      "34           OL   0.333333\n",
      "36       String   0.333333\n",
      "69        Ġthat   0.333333\n",
      "\n",
      "[70 rows x 2 columns]\n"
     ]
    }
   ],
   "source": [
    "WITCode(\"gpt2\", \"gpt2\", pruned_dataset)"
   ]
  }
 ],
 "metadata": {
  "kernelspec": {
   "display_name": "Python 3.9.13 ('wit-env')",
   "language": "python",
   "name": "python3"
  },
  "language_info": {
   "codemirror_mode": {
    "name": "ipython",
    "version": 3
   },
   "file_extension": ".py",
   "mimetype": "text/x-python",
   "name": "python",
   "nbconvert_exporter": "python",
   "pygments_lexer": "ipython3",
   "version": "3.9.13"
  },
  "vscode": {
   "interpreter": {
    "hash": "ca5a367b871d3d9114338070f6c9e6601522ba0f3c2ff4e97677bd75c8f76b57"
   }
  }
 },
 "nbformat": 4,
 "nbformat_minor": 2
}
