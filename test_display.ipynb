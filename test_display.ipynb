{
 "cells": [
  {
   "cell_type": "code",
   "execution_count": 1,
   "metadata": {},
   "outputs": [],
   "source": [
    "# can modify with just module name when pip installed\n",
    "# from codewit_semeru import WITCode\n",
    "from src.codewit_semeru import WITCode"
   ]
  },
  {
   "cell_type": "code",
   "execution_count": 2,
   "metadata": {},
   "outputs": [
    {
     "name": "stdout",
     "output_type": "stream",
     "text": [
      "gpt2<>gpt2<>17c5e61e-5a83-451f-af2d-9cdc178d0d96\n",
      "Pipeline completed for pipe gpt2<>gpt2<>17c5e61e-5a83-451f-af2d-9cdc178d0d96\n"
     ]
    },
    {
     "data": {
      "text/html": [
       "\n",
       "        <iframe\n",
       "            width=\"100%\"\n",
       "            height=\"650\"\n",
       "            src=\"http://127.0.0.1:8050/\"\n",
       "            frameborder=\"0\"\n",
       "            allowfullscreen\n",
       "            \n",
       "        ></iframe>\n",
       "        "
      ],
      "text/plain": [
       "<IPython.lib.display.IFrame at 0x13f893430>"
      ]
     },
     "metadata": {},
     "output_type": "display_data"
    },
    {
     "name": "stdout",
     "output_type": "stream",
     "text": [
      "gpt2<>codeparrot/codeparrot-small<>17c5e61e-5a83-451f-af2d-9cdc178d0d96\n"
     ]
    },
    {
     "name": "stderr",
     "output_type": "stream",
     "text": [
      "/Users/dtran/opt/anaconda3/envs/wit-env/lib/python3.9/site-packages/torch/amp/autocast_mode.py:198: UserWarning:\n",
      "\n",
      "User provided device_type of 'cuda', but CUDA is not available. Disabling\n",
      "\n"
     ]
    },
    {
     "name": "stdout",
     "output_type": "stream",
     "text": [
      "Pipeline completed for pipe gpt2<>codeparrot/codeparrot-small<>17c5e61e-5a83-451f-af2d-9cdc178d0d96\n",
      "gpt2<>codeparrot/codeparrot-small<>a0a69995-8998-45be-83be-2304f5372bab\n"
     ]
    },
    {
     "name": "stderr",
     "output_type": "stream",
     "text": [
      "/Users/dtran/opt/anaconda3/envs/wit-env/lib/python3.9/site-packages/torch/amp/autocast_mode.py:198: UserWarning:\n",
      "\n",
      "User provided device_type of 'cuda', but CUDA is not available. Disabling\n",
      "\n"
     ]
    },
    {
     "name": "stdout",
     "output_type": "stream",
     "text": [
      "Pipeline completed for pipe gpt2<>codeparrot/codeparrot-small<>a0a69995-8998-45be-83be-2304f5372bab\n"
     ]
    }
   ],
   "source": [
    "WITCode(\"gpt2\", \"gpt2\", \"This is some chunk of code that I wish to analyze\")"
   ]
  },
  {
   "cell_type": "code",
   "execution_count": 2,
   "metadata": {},
   "outputs": [
    {
     "name": "stderr",
     "output_type": "stream",
     "text": [
      "Found cached dataset code_x_glue_cc_code_completion_line (/Users/dtran/.cache/huggingface/datasets/code_x_glue_cc_code_completion_line/python/0.0.0/4ce8a216b87c5b130aad675f2bbf3612cc1f7fa5dbdc2fcb9c412765cf7830a7)\n"
     ]
    },
    {
     "data": {
      "text/plain": [
       "Dataset({\n",
       "    features: ['id', 'input', 'gt'],\n",
       "    num_rows: 10000\n",
       "})"
      ]
     },
     "execution_count": 2,
     "metadata": {},
     "output_type": "execute_result"
    }
   ],
   "source": [
    "from datasets import load_dataset\n",
    "\n",
    "dataset = load_dataset(\"code_x_glue_cc_code_completion_line\", \"python\", split=\"train\")\n",
    "dataset\n"
   ]
  },
  {
   "cell_type": "code",
   "execution_count": null,
   "metadata": {},
   "outputs": [],
   "source": [
    "WITCode(\"gpt2\", \"EleutherAI/gpt-neo-1.3B\", dataset[10]['input'][:100])"
   ]
  }
 ],
 "metadata": {
  "kernelspec": {
   "display_name": "Python 3.9.13 ('wit-env')",
   "language": "python",
   "name": "python3"
  },
  "language_info": {
   "codemirror_mode": {
    "name": "ipython",
    "version": 3
   },
   "file_extension": ".py",
   "mimetype": "text/x-python",
   "name": "python",
   "nbconvert_exporter": "python",
   "pygments_lexer": "ipython3",
   "version": "3.9.13"
  },
  "vscode": {
   "interpreter": {
    "hash": "ca5a367b871d3d9114338070f6c9e6601522ba0f3c2ff4e97677bd75c8f76b57"
   }
  }
 },
 "nbformat": 4,
 "nbformat_minor": 2
}
