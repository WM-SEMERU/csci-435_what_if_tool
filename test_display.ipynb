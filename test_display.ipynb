{
 "cells": [
  {
   "cell_type": "code",
   "execution_count": 1,
   "metadata": {},
   "outputs": [],
   "source": [
    "# can modify with just module name when pip installed\n",
    "# from codewit_semeru import WITCode\n",
    "from src.codewit_semeru import WITCode\n",
    "%load_ext autoreload\n",
    "%autoreload 2\n"
   ]
  },
  {
   "cell_type": "code",
   "execution_count": 2,
   "metadata": {},
   "outputs": [
    {
     "name": "stderr",
     "output_type": "stream",
     "text": [
      "Found cached dataset code_x_glue_cc_code_completion_line (C:/Users/elisv/.cache/huggingface/datasets/code_x_glue_cc_code_completion_line/python/0.0.0/4ce8a216b87c5b130aad675f2bbf3612cc1f7fa5dbdc2fcb9c412765cf7830a7)\n"
     ]
    },
    {
     "data": {
      "text/plain": [
       "['<s> from __future__ import abs', '<s> import diamond . collector']"
      ]
     },
     "execution_count": 2,
     "metadata": {},
     "output_type": "execute_result"
    }
   ],
   "source": [
    "from datasets import load_dataset\n",
    "\n",
    "dataset = load_dataset(\"code_x_glue_cc_code_completion_line\", \"python\", split=\"train\")\n",
    "pruned_dataset = list(elem[:30] for elem in dataset['input'][0:2])\n",
    "pruned_dataset"
   ]
  },
  {
   "cell_type": "code",
   "execution_count": 4,
   "metadata": {},
   "outputs": [
    {
     "name": "stdout",
     "output_type": "stream",
     "text": [
      "2\n",
      "codeparrot/codeparrot-small<>codeparrot/codeparrot-small<>39366ec7-641c-49a9-9d08-a33e384e15a1\n"
     ]
    },
    {
     "name": "stderr",
     "output_type": "stream",
     "text": [
      "c:\\Users\\elisv\\anaconda3\\lib\\site-packages\\torch\\amp\\autocast_mode.py:198: UserWarning:\n",
      "\n",
      "User provided device_type of 'cuda', but CUDA is not available. Disabling\n",
      "\n"
     ]
    },
    {
     "name": "stdout",
     "output_type": "stream",
     "text": [
      "output_strs:  [['<s> from __future__ import absolutify\\n#\\n# This file is part of the Pyro project.\\n#\\n# Copyright (c) 2013-2020 Pyro Team\\n#\\n# Permission is hereby granted, free of charge, to any person obtaining a copy'], ['<s> import diamond. collectors.\\n\\nThe collectors are a list of collectors that are used to collect\\nthe data.  The collectors are used to collect the data from the\\ncollectors list.  The collectors are used to collect the data from']]\n",
      "Pipeline completed for pipe codeparrot/codeparrot-small<>codeparrot/codeparrot-small<>39366ec7-641c-49a9-9d08-a33e384e15a1\n",
      "DUMMY: [{'label': 'cd0a034e-3171-4f5d-901a-1ca9a428c649', 'value': 'This is some chunk of code that I wish to analyze'}, {'label': '3720fbaa-9a93-4546-bf17-c1f7937c7af5', 'value': 'Lorem ipsum dolor sit amet, consectetur adipiscing elit, sed do eiusmod tempor incididunt ut labore et dolore magna aliqua.'}, {'label': 'd48f2611-f63e-443a-8661-69301c794ab3', 'value': 'def foo(bar): print(bar); foo(123)'}, {'label': '39366ec7-641c-49a9-9d08-a33e384e15a1', 'value': '<s> from __future__ import abs'}]\n"
     ]
    },
    {
     "data": {
      "text/html": [
       "\n",
       "        <iframe\n",
       "            width=\"100%\"\n",
       "            height=\"650\"\n",
       "            src=\"http://127.0.0.1:8050/\"\n",
       "            frameborder=\"0\"\n",
       "            allowfullscreen\n",
       "            \n",
       "        ></iframe>\n",
       "        "
      ],
      "text/plain": [
       "<IPython.lib.display.IFrame at 0x1799fe594c0>"
      ]
     },
     "metadata": {},
     "output_type": "display_data"
    },
    {
     "name": "stdout",
     "output_type": "stream",
     "text": [
      "pipeid:  codeparrot/codeparrot-small<>codeparrot/codeparrot-small<>39366ec7-641c-49a9-9d08-a33e384e15a1\n",
      "output_tkns:  [['<', 's', '>', 'Ġfrom', 'Ġ__', 'future', '__', 'Ġimport', 'Ġabs', 'ol', 'uti', 'fy', 'Ċ', '#', 'Ċ', '#', 'ĠThis', 'Ġfile', 'Ġis', 'Ġpart', 'Ġof', 'Ġthe', 'ĠPy', 'ro', 'Ġproject', '.', 'Ċ', '#', 'Ċ', '#', 'ĠCopyright', 'Ġ(', 'c', ')', 'Ġ2013', '-', '2020', 'ĠPy', 'ro', 'ĠTeam', 'Ċ', '#', 'Ċ', '#', 'ĠPermission', 'Ġis', 'Ġhereby', 'Ġgranted', ',', 'Ġfree', 'Ġof', 'Ġcharge', ',', 'Ġto', 'Ġany', 'Ġperson', 'Ġobtaining', 'Ġa', 'Ġcopy'], ['<', 's', '>', 'Ġimport', 'Ġdi', 'amond', '.', 'Ġcollector', 's', '.', 'Ċ', 'Ċ', 'The', 'Ġcollector', 's', 'Ġare', 'Ġa', 'Ġlist', 'Ġof', 'Ġcollector', 's', 'Ġthat', 'Ġare', 'Ġused', 'Ġto', 'Ġcollect', 'Ċ', 'the', 'Ġdata', '.', 'Ġ', 'ĠThe', 'Ġcollector', 's', 'Ġare', 'Ġused', 'Ġto', 'Ġcollect', 'Ġthe', 'Ġdata', 'Ġfrom', 'Ġthe', 'Ċ', 'collector', 's', 'Ġlist', '.', 'Ġ', 'ĠThe', 'Ġcollector', 's', 'Ġare', 'Ġused', 'Ġto', 'Ġcollect', 'Ġthe', 'Ġdata', 'Ġfrom']]\n",
      "token_freq:           token  frequency\n",
      "12            Ċ          6\n",
      "13            #          6\n",
      "21           ro          2\n",
      "20          ĠPy          2\n",
      "18          Ġof          2\n",
      "35            ,          2\n",
      "16          Ġis          2\n",
      "27            )          1\n",
      "28        Ġ2013          1\n",
      "29            -          1\n",
      "30         2020          1\n",
      "31        ĠTeam          1\n",
      "32  ĠPermission          1\n",
      "0             <          1\n",
      "25           Ġ(          1\n",
      "33      Ġhereby          1\n",
      "34     Ġgranted          1\n",
      "36        Ġfree          1\n",
      "37      Ġcharge          1\n",
      "38          Ġto          1\n",
      "39         Ġany          1\n",
      "40      Ġperson          1\n",
      "41   Ġobtaining          1\n",
      "42           Ġa          1\n",
      "26            c          1\n",
      "22     Ġproject          1\n",
      "24   ĠCopyright          1\n",
      "23            .          1\n",
      "2             >          1\n",
      "3         Ġfrom          1\n",
      "4           Ġ__          1\n",
      "5        future          1\n",
      "6            __          1\n",
      "7       Ġimport          1\n",
      "8          Ġabs          1\n",
      "9            ol          1\n",
      "10          uti          1\n",
      "11           fy          1\n",
      "14        ĠThis          1\n",
      "15        Ġfile          1\n",
      "17        Ġpart          1\n",
      "19         Ġthe          1\n",
      "1             s          1\n",
      "43        Ġcopy          1\n",
      "\n",
      "df:            token  frequency\n",
      "12            Ċ          6\n",
      "13            #          6\n",
      "21           ro          2\n",
      "20          ĠPy          2\n",
      "18          Ġof          2\n",
      "35            ,          2\n",
      "16          Ġis          2\n",
      "27            )          1\n",
      "28        Ġ2013          1\n",
      "29            -          1\n",
      "30         2020          1\n",
      "31        ĠTeam          1\n",
      "32  ĠPermission          1\n",
      "0             <          1\n",
      "25           Ġ(          1\n",
      "33      Ġhereby          1\n",
      "34     Ġgranted          1\n",
      "36        Ġfree          1\n",
      "37      Ġcharge          1\n",
      "38          Ġto          1\n"
     ]
    }
   ],
   "source": [
    "WITCode(\"codeparrot/codeparrot-small\", \"codeparrot/codeparrot-small\", [\"def foo(bar): print(bar) foo(123)\"])"
   ]
  }
 ],
 "metadata": {
  "kernelspec": {
   "display_name": "Python 3.8.8 ('base')",
   "language": "python",
   "name": "python3"
  },
  "language_info": {
   "codemirror_mode": {
    "name": "ipython",
    "version": 3
   },
   "file_extension": ".py",
   "mimetype": "text/x-python",
   "name": "python",
   "nbconvert_exporter": "python",
   "pygments_lexer": "ipython3",
   "version": "3.8.8"
  },
  "vscode": {
   "interpreter": {
    "hash": "4ea1721d7fadea24e6840e529925348c2b6e25559d8bb511c630e839167e4b7a"
   }
  }
 },
 "nbformat": 4,
 "nbformat_minor": 2
}
