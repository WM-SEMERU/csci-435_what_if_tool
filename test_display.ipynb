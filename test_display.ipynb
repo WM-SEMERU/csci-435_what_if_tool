{
 "cells": [
  {
   "cell_type": "code",
   "execution_count": 1,
   "metadata": {},
   "outputs": [],
   "source": [
    "# can modify with just module name when pip installed\n",
    "# from codewit_semeru import WITCode\n",
    "from src.codewit_semeru import WITCode\n",
    "%load_ext autoreload\n",
    "%autoreload 2\n"
   ]
  },
  {
   "cell_type": "code",
   "execution_count": 2,
   "metadata": {},
   "outputs": [
    {
     "name": "stderr",
     "output_type": "stream",
     "text": [
      "Found cached dataset code_x_glue_cc_code_completion_line (/Users/dtran/.cache/huggingface/datasets/code_x_glue_cc_code_completion_line/python/0.0.0/4ce8a216b87c5b130aad675f2bbf3612cc1f7fa5dbdc2fcb9c412765cf7830a7)\n"
     ]
    },
    {
     "data": {
      "text/plain": [
       "'<s> from __future__ import abs\\n<s> import diamond . collector\\n<s> try : <EOL> from cStringIO'"
      ]
     },
     "execution_count": 2,
     "metadata": {},
     "output_type": "execute_result"
    }
   ],
   "source": [
    "from datasets import load_dataset\n",
    "\n",
    "NUM_DATA = 3\n",
    "DATA_LEN = 30\n",
    "\n",
    "dataset = load_dataset(\"code_x_glue_cc_code_completion_line\", \"python\", split=\"train\")\n",
    "pruned_dataset = \"\\n\".join([elem[:DATA_LEN] for elem in dataset[\"input\"][:NUM_DATA]])\n",
    "pruned_dataset"
   ]
  },
  {
   "cell_type": "code",
   "execution_count": 3,
   "metadata": {},
   "outputs": [
    {
     "name": "stdout",
     "output_type": "stream",
     "text": [
      "Pipeline completed for pipe gpt2<>gpt2<>4583249f-d90b-4ff6-9136-fc1c8d26dbd9\n"
     ]
    },
    {
     "data": {
      "text/html": [
       "\n",
       "        <iframe\n",
       "            width=\"100%\"\n",
       "            height=\"650\"\n",
       "            src=\"http://127.0.0.1:8050/\"\n",
       "            frameborder=\"0\"\n",
       "            allowfullscreen\n",
       "            \n",
       "        ></iframe>\n",
       "        "
      ],
      "text/plain": [
       "<IPython.lib.display.IFrame at 0x15708b790>"
      ]
     },
     "metadata": {},
     "output_type": "display_data"
    },
    {
     "name": "stdout",
     "output_type": "stream",
     "text": [
      "Processing gpt2<>gpt2<>4583249f-d90b-4ff6-9136-fc1c8d26dbd9\n",
      "Please wait...\n",
      "pipeid:  gpt2<>gpt2<>4583249f-d90b-4ff6-9136-fc1c8d26dbd9\n",
      "\u001b[1;31m---------------------------------------------------------------------------\u001b[0m\n",
      "\u001b[1;31mTypeError\u001b[0m                                 Traceback (most recent call last)\n",
      "File \u001b[1;32m~/Documents/College 22-23/Software Engineering/csci-435_what_if_tool/src/codewit_semeru/frontend/display.py:41\u001b[0m, in \u001b[0;36mupdate_data_and_chart\u001b[1;34m(\n",
      "    tokenizer='gpt2',\n",
      "    selected_model='gpt2',\n",
      "    selected_dataset='<s> from __future__ import abs\\n<s> import diamond . collector\\n<s> try : <EOL> from cStringIO',\n",
      "    selected_stat='mean'\n",
      ")\u001b[0m\n",
      "\u001b[0;32m     37\u001b[0m         selected_dataset_id \u001b[38;5;241m=\u001b[39m label\n",
      "\u001b[0;32m     39\u001b[0m \u001b[38;5;28mprint\u001b[39m(\n",
      "\u001b[0;32m     40\u001b[0m     \u001b[38;5;124mf\u001b[39m\u001b[38;5;124m\"\u001b[39m\u001b[38;5;124mProcessing \u001b[39m\u001b[38;5;132;01m{\u001b[39;00mPipeline\u001b[38;5;241m.\u001b[39mpipe_id(tokenizer, selected_model, selected_dataset_id)\u001b[38;5;132;01m}\u001b[39;00m\u001b[38;5;130;01m\\n\u001b[39;00m\u001b[38;5;124mPlease wait...\u001b[39m\u001b[38;5;124m\"\u001b[39m)\n",
      "\u001b[1;32m---> 41\u001b[0m df \u001b[38;5;241m=\u001b[39m \u001b[43mpreprocess\u001b[49m\u001b[43m(\u001b[49m\u001b[43mtokenizer\u001b[49m\u001b[43m,\u001b[49m\u001b[43m \u001b[49m\u001b[43mselected_model\u001b[49m\u001b[43m,\u001b[49m\n",
      "        tokenizer \u001b[1;34m= 'gpt2'\u001b[0m\u001b[1;34m\n",
      "        \u001b[0mselected_model \u001b[1;34m= 'gpt2'\u001b[0m\u001b[1;34m\n",
      "        \u001b[0mselected_dataset_id \u001b[1;34m= '4583249f-d90b-4ff6-9136-fc1c8d26dbd9'\u001b[0m\u001b[1;34m\n",
      "        \u001b[0mselected_dataset \u001b[1;34m= '<s> from __future__ import abs\\n<s> import diamond . collector\\n<s> try : <EOL> from cStringIO'\u001b[0m\u001b[1;34m\n",
      "        \u001b[0mselected_stat \u001b[1;34m= 'mean'\u001b[0m\n",
      "\u001b[0;32m     42\u001b[0m \u001b[43m                \u001b[49m\u001b[43mselected_dataset\u001b[49m\u001b[43m,\u001b[49m\u001b[43m \u001b[49m\u001b[43mselected_dataset_id\u001b[49m\u001b[43m,\u001b[49m\u001b[43m \u001b[49m\u001b[43mselected_stat\u001b[49m\u001b[43m)\u001b[49m\n",
      "\u001b[0;32m     43\u001b[0m \u001b[38;5;66;03m# print(\"\\ndf: \", df)\u001b[39;00m\n",
      "\u001b[0;32m     44\u001b[0m fig \u001b[38;5;241m=\u001b[39m px\u001b[38;5;241m.\u001b[39mbar(df, x\u001b[38;5;241m=\u001b[39m\u001b[38;5;124m\"\u001b[39m\u001b[38;5;124mfrequency\u001b[39m\u001b[38;5;124m\"\u001b[39m, y\u001b[38;5;241m=\u001b[39m\u001b[38;5;124m\"\u001b[39m\u001b[38;5;124mtoken\u001b[39m\u001b[38;5;124m\"\u001b[39m)\n",
      "\n",
      "File \u001b[1;32m~/Documents/College 22-23/Software Engineering/csci-435_what_if_tool/src/codewit_semeru/backend/model.py:48\u001b[0m, in \u001b[0;36mpreprocess\u001b[1;34m(\n",
      "    tokenizer='gpt2',\n",
      "    model='gpt2',\n",
      "    dataset='<s> from __future__ import abs\\n<s> import diamond . collector\\n<s> try : <EOL> from cStringIO',\n",
      "    dataset_id='4583249f-d90b-4ff6-9136-fc1c8d26dbd9',\n",
      "    stat='mean'\n",
      ")\u001b[0m\n",
      "\u001b[0;32m     45\u001b[0m output_tkn_freqs \u001b[38;5;241m=\u001b[39m pipe\u001b[38;5;241m.\u001b[39moutput_tok_freqs\n",
      "\u001b[0;32m     47\u001b[0m \u001b[38;5;28;01mfor\u001b[39;00m tkn \u001b[38;5;129;01min\u001b[39;00m output_tkn_freqs:\n",
      "\u001b[1;32m---> 48\u001b[0m     output_tkn_freqs[tkn] \u001b[38;5;241m=\u001b[39m \u001b[43mstats_func\u001b[49m\u001b[43m(\u001b[49m\u001b[43moutput_tkn_freqs\u001b[49m\u001b[43m[\u001b[49m\u001b[43mtkn\u001b[49m\u001b[43m]\u001b[49m\u001b[43m)\u001b[49m\n",
      "        output_tkn_freqs \u001b[1;34m= defaultdict(<class 'list'>, {'<': 7, 's': 3, '>': 8, 'Ġfrom': 6, 'Ġ__': 1, 'future': 1, '__': 1, 'Ġimport': 6, 'Ġabs': 1, 'Ċ': 6, 'Ġdiamond': 1, '.': 1, 'Ġcollector': 1, 'Ġtry': 1, 'Ġ:': 1, 'Ġ<': 1, 'E': 5, 'OL': 5, 'Ġc': 9, 'String': 8, 'IO': 8})\u001b[0m\u001b[1;34m\n",
      "        \u001b[0mtkn \u001b[1;34m= '<'\u001b[0m\u001b[1;34m\n",
      "        \u001b[0mstats_func \u001b[1;34m= <function mean at 0x150a8c790>\u001b[0m\n",
      "\u001b[0;32m     50\u001b[0m token_freq \u001b[38;5;241m=\u001b[39m pd\u001b[38;5;241m.\u001b[39mDataFrame(\n",
      "\u001b[0;32m     51\u001b[0m     output_tkn_freqs\u001b[38;5;241m.\u001b[39mitems(), columns\u001b[38;5;241m=\u001b[39m[\u001b[38;5;124m\"\u001b[39m\u001b[38;5;124mtoken\u001b[39m\u001b[38;5;124m\"\u001b[39m, \u001b[38;5;124m\"\u001b[39m\u001b[38;5;124mfrequency\u001b[39m\u001b[38;5;124m\"\u001b[39m]\n",
      "\u001b[0;32m     52\u001b[0m )\u001b[38;5;241m.\u001b[39msort_values(by\u001b[38;5;241m=\u001b[39m\u001b[38;5;124m\"\u001b[39m\u001b[38;5;124mfrequency\u001b[39m\u001b[38;5;124m\"\u001b[39m, ascending\u001b[38;5;241m=\u001b[39m\u001b[38;5;28;01mFalse\u001b[39;00m)\n",
      "\u001b[0;32m     53\u001b[0m \u001b[38;5;28mprint\u001b[39m(\u001b[38;5;124m\"\u001b[39m\u001b[38;5;124mtoken_freq:\u001b[39m\u001b[38;5;124m\"\u001b[39m, token_freq)\n",
      "\n",
      "File \u001b[1;32m~/opt/anaconda3/envs/wit-env/lib/python3.9/statistics.py:311\u001b[0m, in \u001b[0;36mmean\u001b[1;34m(data=7)\u001b[0m\n",
      "\u001b[0;32m    295\u001b[0m \u001b[38;5;28;01mdef\u001b[39;00m \u001b[38;5;21mmean\u001b[39m(data):\n",
      "\u001b[0;32m    296\u001b[0m     \u001b[38;5;124;03m\"\"\"Return the sample arithmetic mean of data.\u001b[39;00m\n",
      "\u001b[0;32m    297\u001b[0m \n",
      "\u001b[0;32m    298\u001b[0m \u001b[38;5;124;03m    >>> mean([1, 2, 3, 4, 4])\u001b[39;00m\n",
      "\u001b[1;32m   (...)\u001b[0m\n",
      "\u001b[0;32m    309\u001b[0m \u001b[38;5;124;03m    If ``data`` is empty, StatisticsError will be raised.\u001b[39;00m\n",
      "\u001b[0;32m    310\u001b[0m \u001b[38;5;124;03m    \"\"\"\u001b[39;00m\n",
      "\u001b[1;32m--> 311\u001b[0m     \u001b[38;5;28;01mif\u001b[39;00m \u001b[38;5;28;43miter\u001b[39;49m\u001b[43m(\u001b[49m\u001b[43mdata\u001b[49m\u001b[43m)\u001b[49m \u001b[38;5;129;01mis\u001b[39;00m data:\n",
      "        data \u001b[1;34m= 7\u001b[0m\n",
      "\u001b[0;32m    312\u001b[0m         data \u001b[38;5;241m=\u001b[39m \u001b[38;5;28mlist\u001b[39m(data)\n",
      "\u001b[0;32m    313\u001b[0m     n \u001b[38;5;241m=\u001b[39m \u001b[38;5;28mlen\u001b[39m(data)\n",
      "\n",
      "\u001b[1;31mTypeError\u001b[0m: 'int' object is not iterable\n",
      "\n"
     ]
    }
   ],
   "source": [
    "WITCode(\"gpt2\", \"gpt2\", pruned_dataset)"
   ]
  }
 ],
 "metadata": {
  "kernelspec": {
   "display_name": "Python 3.9.13 ('wit-env')",
   "language": "python",
   "name": "python3"
  },
  "language_info": {
   "codemirror_mode": {
    "name": "ipython",
    "version": 3
   },
   "file_extension": ".py",
   "mimetype": "text/x-python",
   "name": "python",
   "nbconvert_exporter": "python",
   "pygments_lexer": "ipython3",
   "version": "3.9.13"
  },
  "vscode": {
   "interpreter": {
    "hash": "ca5a367b871d3d9114338070f6c9e6601522ba0f3c2ff4e97677bd75c8f76b57"
   }
  }
 },
 "nbformat": 4,
 "nbformat_minor": 2
}
