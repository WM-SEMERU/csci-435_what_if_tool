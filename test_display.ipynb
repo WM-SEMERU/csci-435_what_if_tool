{
 "cells": [
  {
   "cell_type": "code",
   "execution_count": 1,
   "metadata": {},
   "outputs": [
    {
     "name": "stdout",
     "output_type": "stream",
     "text": [
      "Pipeline initiated\n",
      "        token  frequency\n",
      "28          \\          5\n",
      "9         Ġto          3\n",
      "12          Ċ          2\n",
      "1         Ġis          2\n",
      "26    Program          2\n",
      "7          ĠI          2\n",
      "29  Microsoft          2\n",
      "11          .          2\n",
      "0        This          1\n",
      "24          C          1\n",
      "25         :\\          1\n",
      "27     ĠFiles          1\n",
      "30    ĠVisual          1\n",
      "22    Ġcalled          1\n",
      "31    ĠStudio          1\n",
      "32      Start          1\n",
      "33      ĠMenu          1\n",
      "34          s          1\n",
      "35        NET          1\n",
      "36       Fram          1\n"
     ]
    },
    {
     "data": {
      "text/html": [
       "\n",
       "        <iframe\n",
       "            width=\"100%\"\n",
       "            height=\"650\"\n",
       "            src=\"http://127.0.0.1:8050/\"\n",
       "            frameborder=\"0\"\n",
       "            allowfullscreen\n",
       "            \n",
       "        ></iframe>\n",
       "        "
      ],
      "text/plain": [
       "<IPython.lib.display.IFrame at 0x1626d49a0>"
      ]
     },
     "metadata": {},
     "output_type": "display_data"
    }
   ],
   "source": [
    "# can modify with just module name when pip installed\n",
    "# from wit_code import WITCode\n",
    "from codewit_semeru.codewit_semeru import WITCode\n",
    "\n",
    "WITCode(\"gpt2\", \"This is some chunk of code that I wish to analyze\", \"gpt2\")"
   ]
  }
 ],
 "metadata": {
  "kernelspec": {
   "display_name": "Python 3.9.13 ('wit-env')",
   "language": "python",
   "name": "python3"
  },
  "language_info": {
   "codemirror_mode": {
    "name": "ipython",
    "version": 3
   },
   "file_extension": ".py",
   "mimetype": "text/x-python",
   "name": "python",
   "nbconvert_exporter": "python",
   "pygments_lexer": "ipython3",
   "version": "3.9.13"
  },
  "vscode": {
   "interpreter": {
    "hash": "ca5a367b871d3d9114338070f6c9e6601522ba0f3c2ff4e97677bd75c8f76b57"
   }
  }
 },
 "nbformat": 4,
 "nbformat_minor": 2
}
