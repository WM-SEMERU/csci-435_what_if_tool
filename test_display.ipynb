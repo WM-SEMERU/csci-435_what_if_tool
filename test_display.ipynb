{
 "cells": [
  {
   "cell_type": "code",
   "execution_count": 1,
   "metadata": {},
   "outputs": [],
   "source": [
    "from codewit_semeru import WITCode\n",
    "%load_ext autoreload\n",
    "%autoreload 2\n"
   ]
  },
  {
   "cell_type": "code",
   "execution_count": 18,
   "metadata": {},
   "outputs": [
    {
     "name": "stderr",
     "output_type": "stream",
     "text": [
      "Found cached dataset code_x_glue_cc_code_completion_line (/Users/dtran/.cache/huggingface/datasets/code_x_glue_cc_code_completion_line/python/0.0.0/4ce8a216b87c5b130aad675f2bbf3612cc1f7fa5dbdc2fcb9c412765cf7830a7)\n"
     ]
    },
    {
     "name": "stdout",
     "output_type": "stream",
     "text": [
      "<s> from __future__ import absolute_import <EOL> import httpretty <EOL> import pygerduty <EOL> import textwrap <EOL> @ httpretty . activate <EOL> def test_get_user ( ) : <EOL> httpretty . register_uri ( <EOL> httpretty . GET , \"\" , <EOL> body = textwrap . dedent ( ) , status = 200 ) <EOL> p = pygerduty . PagerDuty ( \"contosso\" , \"password\" ) <EOL> user = p . users . show ( \"PIJ90N7\" ) <EOL> assert user .\n"
     ]
    }
   ],
   "source": [
    "from datasets.load import load_dataset\n",
    "import pandas as pd\n",
    "\n",
    "DATA_LEN = 1024\n",
    "NUM_DATA = 20\n",
    "\n",
    "dataset = load_dataset(\"code_x_glue_cc_code_completion_line\", \"python\", split=\"train\")\n",
    "pruned_dataset = []\n",
    "for i, input_seq in enumerate(dataset):\n",
    "    temp = input_seq[\"input\"]  # type: ignore\n",
    "    if len(temp) <= DATA_LEN:\n",
    "        pruned_dataset.append(temp)\n",
    "    if len(pruned_dataset) >= NUM_DATA:\n",
    "        break\n",
    "pd.DataFrame(pruned_dataset).describe()\n",
    "print(pruned_dataset[1])"
   ]
  },
  {
   "cell_type": "code",
   "execution_count": 17,
   "metadata": {},
   "outputs": [
    {
     "name": "stdout",
     "output_type": "stream",
     "text": [
      "Querying HF Inference API, this will take a moment...\n",
      "Pipeline completed for pipe gpt2<>4b21447d-eaea-4a1a-889a-2b6aa8547654\n",
      "<s> from __future__ import absolute_import <EOL> import httpretty <EOL> import pygerduty <EOL> import textwrap <EOL> @ httpretty . activate <EOL> def test_get_user ( ) : <EOL> httpretty . register_uri ( <EOL> httpretty . GET , \"\" , <EOL> body = textwrap . dedent ( ) , status = 200 ) <EOL> p = pygerduty . PagerDuty ( \"contosso\" , \"password\" ) <EOL> user = p . users . show ( \"PIJ90N7\" ) <EOL> assert user . user == status { 'error' : user,'reply' : user } print ( 'PJ90N7' ) print ( p. status == 200 ) body. print ( 'PJ90N7'. count ( ) )\n",
      "from __future__ import absolute_import \n",
      "import httpretty \n",
      "import pygerduty \n",
      "import textwrap \n",
      "@httpretty .activate \n",
      "def test_get_user ():\n",
      "    httpretty .register_uri (\n",
      "    httpretty .GET , \"\" ,\n",
      "    body =textwrap .dedent (),status =200 )\n",
      "    p =pygerduty .PagerDuty ( \"contosso\" , \"password\" )\n",
      "    user =p .users .show ( \"PIJ90N7\" )\n",
      "    assert user .user ==status { 'error' :user,'reply' :user }print ( 'PJ90N7' )print (p.status ==200 )body.print ( 'PJ90N7'.count ())\n",
      "\n"
     ]
    },
    {
     "ename": "SyntaxError",
     "evalue": "invalid syntax (<unknown>, line 12)",
     "output_type": "error",
     "traceback": [
      "Traceback \u001b[0;36m(most recent call last)\u001b[0m:\n",
      "  File \u001b[1;32m~/opt/anaconda3/envs/wit-env/lib/python3.9/site-packages/IPython/core/interactiveshell.py:3398\u001b[0m in \u001b[1;35mrun_code\u001b[0m\n    exec(code_obj, self.user_global_ns, self.user_ns)\n",
      "  Input \u001b[1;32mIn [17]\u001b[0m in \u001b[1;35m<cell line: 1>\u001b[0m\n    WITCode(\"gpt2\", pruned_dataset)\n",
      "  File \u001b[1;32m~/Documents/College 22-23/Software Engineering/csci-435_what_if_tool/codewit_semeru/__init__.py:17\u001b[0m in \u001b[1;35mWITCode\u001b[0m\n    server = CodeWITServer(model, dataset, dataset_id)\n",
      "  File \u001b[1;32m~/Documents/College 22-23/Software Engineering/csci-435_what_if_tool/codewit_semeru/frontend/server.py:41\u001b[0m in \u001b[1;35m__init__\u001b[0m\n    pipes.run_pipelines()\n",
      "  File \u001b[1;32m~/Documents/College 22-23/Software Engineering/csci-435_what_if_tool/codewit_semeru/backend/pipeline_store.py:30\u001b[0m in \u001b[1;35mrun_pipelines\u001b[0m\n    pipe.run()\n",
      "  File \u001b[1;32m~/Documents/College 22-23/Software Engineering/csci-435_what_if_tool/codewit_semeru/backend/pipeline.py:84\u001b[0m in \u001b[1;35mrun\u001b[0m\n    self.parse_code_concepts()\n",
      "  File \u001b[1;32m~/Documents/College 22-23/Software Engineering/csci-435_what_if_tool/codewit_semeru/backend/pipeline.py:131\u001b[0m in \u001b[1;35mparse_code_concepts\u001b[0m\n    tree = ast.parse(self.convert_to_python_code(self.dataset[1] + self.output_seqs[1]))\n",
      "\u001b[0;36m  File \u001b[0;32m~/opt/anaconda3/envs/wit-env/lib/python3.9/ast.py:50\u001b[0;36m in \u001b[0;35mparse\u001b[0;36m\u001b[0m\n\u001b[0;31m    return compile(source, filename, mode, flags,\u001b[0m\n",
      "\u001b[0;36m  File \u001b[0;32m<unknown>:12\u001b[0;36m\u001b[0m\n\u001b[0;31m    assert user .user ==status { 'error' :user,'reply' :user }print ( 'PJ90N7' )print (p.status ==200 )body.print ( 'PJ90N7'.count ())\u001b[0m\n\u001b[0m                               ^\u001b[0m\n\u001b[0;31mSyntaxError\u001b[0m\u001b[0;31m:\u001b[0m invalid syntax\n"
     ]
    }
   ],
   "source": [
    "WITCode(\"gpt2\", pruned_dataset)"
   ]
  },
  {
   "cell_type": "code",
   "execution_count": null,
   "metadata": {},
   "outputs": [],
   "source": []
  }
 ],
 "metadata": {
  "kernelspec": {
   "display_name": "Python 3 (ipykernel)",
   "language": "python",
   "name": "python3"
  },
  "language_info": {
   "codemirror_mode": {
    "name": "ipython",
    "version": 3
   },
   "file_extension": ".py",
   "mimetype": "text/x-python",
   "name": "python",
   "nbconvert_exporter": "python",
   "pygments_lexer": "ipython3",
   "version": "3.8.10"
  },
  "vscode": {
   "interpreter": {
    "hash": "ca5a367b871d3d9114338070f6c9e6601522ba0f3c2ff4e97677bd75c8f76b57"
   }
  }
 },
 "nbformat": 4,
 "nbformat_minor": 2
}
