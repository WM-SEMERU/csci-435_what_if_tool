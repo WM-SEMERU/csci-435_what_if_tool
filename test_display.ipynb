{
 "cells": [
  {
   "cell_type": "code",
   "execution_count": null,
   "metadata": {},
   "outputs": [],
   "source": [
    "# can modify with just module name when pip installed\n",
    "# from codewit_semeru import WITCode\n",
    "from src.codewit_semeru import WITCode\n",
    "%load_ext autoreload\n",
    "%autoreload 2\n"
   ]
  },
  {
   "cell_type": "code",
   "execution_count": null,
   "metadata": {},
   "outputs": [],
   "source": [
    "from datasets import load_dataset\n",
    "\n",
    "dataset = load_dataset(\"code_x_glue_cc_code_completion_line\", \"python\", split=\"train\")\n",
    "pruned_dataset = list(elem[:30] for elem in dataset['input'][0:3])\n",
    "pruned_dataset"
   ]
  },
  {
   "cell_type": "code",
   "execution_count": null,
   "metadata": {},
   "outputs": [],
   "source": [
    "WITCode(\"codeparrot/codeparrot-small\", \"codeparrot/codeparrot-small\", pruned_dataset)"
   ]
  }
 ],
 "metadata": {
  "kernelspec": {
   "display_name": "Python 3.8.8 ('base')",
   "language": "python",
   "name": "python3"
  },
  "language_info": {
   "codemirror_mode": {
    "name": "ipython",
    "version": 3
   },
   "file_extension": ".py",
   "mimetype": "text/x-python",
   "name": "python",
   "nbconvert_exporter": "python",
   "pygments_lexer": "ipython3",
   "version": "3.8.8"
  },
  "vscode": {
   "interpreter": {
    "hash": "4ea1721d7fadea24e6840e529925348c2b6e25559d8bb511c630e839167e4b7a"
   }
  }
 },
 "nbformat": 4,
 "nbformat_minor": 2
}
