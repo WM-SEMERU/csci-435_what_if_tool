{
 "cells": [
  {
   "cell_type": "code",
   "execution_count": 1,
   "metadata": {},
   "outputs": [
    {
     "ename": "TypeError",
     "evalue": "__init__() takes 3 positional arguments but 4 were given",
     "output_type": "error",
     "traceback": [
      "\u001b[1;31m---------------------------------------------------------------------------\u001b[0m",
      "\u001b[1;31mTypeError\u001b[0m                                 Traceback (most recent call last)",
      "Cell \u001b[1;32mIn [1], line 5\u001b[0m\n\u001b[0;32m      1\u001b[0m \u001b[39m# can modify with just module name when pip installed\u001b[39;00m\n\u001b[0;32m      2\u001b[0m \u001b[39m# from codewit_semeru import WITCode\u001b[39;00m\n\u001b[0;32m      3\u001b[0m \u001b[39mfrom\u001b[39;00m \u001b[39msrc\u001b[39;00m\u001b[39m.\u001b[39;00m\u001b[39mcodewit_semeru\u001b[39;00m \u001b[39mimport\u001b[39;00m WITCode\n\u001b[1;32m----> 5\u001b[0m WITCode(\u001b[39m\"\u001b[39;49m\u001b[39mgpt2\u001b[39;49m\u001b[39m\"\u001b[39;49m, \u001b[39m\"\u001b[39;49m\u001b[39mThis is some chunk of code that I wish to analyze\u001b[39;49m\u001b[39m\"\u001b[39;49m)\n",
      "File \u001b[1;32mc:\\Users\\elisv\\OneDrive\\Documents\\School Stuff\\Fall 2022\\Software Engineering\\What-if-tool Project\\csci-435_what_if_tool\\src\\codewit_semeru\\__init__.py:16\u001b[0m, in \u001b[0;36mWITCode\u001b[1;34m(model, dataset)\u001b[0m\n\u001b[0;32m     15\u001b[0m \u001b[39mdef\u001b[39;00m \u001b[39mWITCode\u001b[39m(model: \u001b[39mstr\u001b[39m \u001b[39m=\u001b[39m \u001b[39m\"\u001b[39m\u001b[39mgpt2\u001b[39m\u001b[39m\"\u001b[39m, dataset: \u001b[39mstr\u001b[39m \u001b[39m=\u001b[39m \u001b[39m\"\u001b[39m\u001b[39m\"\u001b[39m) \u001b[39m-\u001b[39m\u001b[39m>\u001b[39m \u001b[39mNone\u001b[39;00m:\n\u001b[1;32m---> 16\u001b[0m     run_server(model, dataset, \u001b[39m'\u001b[39;49m\u001b[39m'\u001b[39;49m)\n",
      "File \u001b[1;32mc:\\Users\\elisv\\OneDrive\\Documents\\School Stuff\\Fall 2022\\Software Engineering\\What-if-tool Project\\csci-435_what_if_tool\\src\\codewit_semeru\\frontend\\display.py:30\u001b[0m, in \u001b[0;36mrun_server\u001b[1;34m(tokenizer, model, dataset)\u001b[0m\n\u001b[0;32m     27\u001b[0m \u001b[39mdef\u001b[39;00m \u001b[39mrun_server\u001b[39m(tokenizer: \u001b[39mstr\u001b[39m, model: \u001b[39mstr\u001b[39m, dataset: Union[\u001b[39mstr\u001b[39m, \u001b[39mint\u001b[39m]) \u001b[39m-\u001b[39m\u001b[39m>\u001b[39m \u001b[39mNone\u001b[39;00m:\n\u001b[0;32m     28\u001b[0m     app \u001b[39m=\u001b[39m JupyterDash(\u001b[39m__name__\u001b[39m)\n\u001b[1;32m---> 30\u001b[0m     pipes\u001b[39m.\u001b[39madd_pipeline(Pipeline(tokenizer, model, dataset))\n\u001b[0;32m     31\u001b[0m     pipes\u001b[39m.\u001b[39mrun_pipelines()\n\u001b[0;32m     33\u001b[0m     \u001b[39m# run_pipeline(model, dataset, tokenizer)\u001b[39;00m\n\u001b[0;32m     34\u001b[0m     \u001b[39m# html_head_view = get_bertviz()\u001b[39;00m\n\u001b[0;32m     35\u001b[0m     \u001b[39m# with open(\"codewit_semeru/codewit_semeru/frontend/assets/head_view.html\", 'w') as file:\u001b[39;00m\n\u001b[0;32m     36\u001b[0m     \u001b[39m#     file.write(html_head_view.data)\u001b[39;00m\n\u001b[0;32m     37\u001b[0m     \u001b[39m# bertviz_html = parse_head_view()\u001b[39;00m\n",
      "\u001b[1;31mTypeError\u001b[0m: __init__() takes 3 positional arguments but 4 were given"
     ]
    }
   ],
   "source": [
    "# can modify with just module name when pip installed\n",
    "# from codewit_semeru import WITCode\n",
    "from src.codewit_semeru import WITCode\n",
    "\n",
    "WITCode(\"gpt2\", \"This is some chunk of code that I wish to analyze\")"
   ]
  },
  {
   "cell_type": "code",
   "execution_count": 4,
   "metadata": {},
   "outputs": [
    {
     "ename": "ModuleNotFoundError",
     "evalue": "No module named 'datasets'",
     "output_type": "error",
     "traceback": [
      "\u001b[1;31m---------------------------------------------------------------------------\u001b[0m",
      "\u001b[1;31mModuleNotFoundError\u001b[0m                       Traceback (most recent call last)",
      "Cell \u001b[1;32mIn [4], line 1\u001b[0m\n\u001b[1;32m----> 1\u001b[0m \u001b[39mfrom\u001b[39;00m \u001b[39mdatasets\u001b[39;00m \u001b[39mimport\u001b[39;00m load_dataset\n\u001b[0;32m      3\u001b[0m dataset \u001b[39m=\u001b[39m load_dataset(\u001b[39m\"\u001b[39m\u001b[39mcode_x_glue_cc_code_completion_line\u001b[39m\u001b[39m\"\u001b[39m, \u001b[39m\"\u001b[39m\u001b[39mpython\u001b[39m\u001b[39m\"\u001b[39m, split\u001b[39m=\u001b[39m\u001b[39m\"\u001b[39m\u001b[39mtrain\u001b[39m\u001b[39m\"\u001b[39m)\n\u001b[0;32m      4\u001b[0m dataset\n",
      "\u001b[1;31mModuleNotFoundError\u001b[0m: No module named 'datasets'"
     ]
    }
   ],
   "source": [
    "from datasets import load_dataset\n",
    "\n",
    "dataset = load_dataset(\"code_x_glue_cc_code_completion_line\", \"python\", split=\"train\")\n",
    "dataset\n"
   ]
  }
 ],
 "metadata": {
  "kernelspec": {
   "display_name": "Python 3.8.8 ('base')",
   "language": "python",
   "name": "python3"
  },
  "language_info": {
   "codemirror_mode": {
    "name": "ipython",
    "version": 3
   },
   "file_extension": ".py",
   "mimetype": "text/x-python",
   "name": "python",
   "nbconvert_exporter": "python",
   "pygments_lexer": "ipython3",
   "version": "3.8.8"
  },
  "vscode": {
   "interpreter": {
    "hash": "4ea1721d7fadea24e6840e529925348c2b6e25559d8bb511c630e839167e4b7a"
   }
  }
 },
 "nbformat": 4,
 "nbformat_minor": 2
}
