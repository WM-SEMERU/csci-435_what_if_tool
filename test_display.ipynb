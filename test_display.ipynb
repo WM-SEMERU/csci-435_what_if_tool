{
 "cells": [
  {
   "cell_type": "code",
   "execution_count": 1,
   "metadata": {},
   "outputs": [],
   "source": [
    "from codewit_semeru import WITCode\n",
    "%load_ext autoreload\n",
    "%autoreload 2\n"
   ]
  },
  {
   "cell_type": "code",
   "execution_count": 2,
   "metadata": {},
   "outputs": [
    {
     "name": "stderr",
     "output_type": "stream",
     "text": [
      "Found cached dataset code_x_glue_cc_code_completion_line (/Users/dtran/.cache/huggingface/datasets/code_x_glue_cc_code_completion_line/python/0.0.0/4ce8a216b87c5b130aad675f2bbf3612cc1f7fa5dbdc2fcb9c412765cf7830a7)\n"
     ]
    },
    {
     "data": {
      "text/html": [
       "<div>\n",
       "<style scoped>\n",
       "    .dataframe tbody tr th:only-of-type {\n",
       "        vertical-align: middle;\n",
       "    }\n",
       "\n",
       "    .dataframe tbody tr th {\n",
       "        vertical-align: top;\n",
       "    }\n",
       "\n",
       "    .dataframe thead th {\n",
       "        text-align: right;\n",
       "    }\n",
       "</style>\n",
       "<table border=\"1\" class=\"dataframe\">\n",
       "  <thead>\n",
       "    <tr style=\"text-align: right;\">\n",
       "      <th></th>\n",
       "      <th>0</th>\n",
       "    </tr>\n",
       "  </thead>\n",
       "  <tbody>\n",
       "    <tr>\n",
       "      <th>count</th>\n",
       "      <td>20</td>\n",
       "    </tr>\n",
       "    <tr>\n",
       "      <th>unique</th>\n",
       "      <td>20</td>\n",
       "    </tr>\n",
       "    <tr>\n",
       "      <th>top</th>\n",
       "      <td>&lt;s&gt; try : &lt;EOL&gt; from cStringIO import StringIO...</td>\n",
       "    </tr>\n",
       "    <tr>\n",
       "      <th>freq</th>\n",
       "      <td>1</td>\n",
       "    </tr>\n",
       "  </tbody>\n",
       "</table>\n",
       "</div>"
      ],
      "text/plain": [
       "                                                        0\n",
       "count                                                  20\n",
       "unique                                                 20\n",
       "top     <s> try : <EOL> from cStringIO import StringIO...\n",
       "freq                                                    1"
      ]
     },
     "execution_count": 2,
     "metadata": {},
     "output_type": "execute_result"
    }
   ],
   "source": [
    "from datasets.load import load_dataset\n",
    "import pandas as pd\n",
    "\n",
    "DATA_LEN = 1024\n",
    "NUM_DATA = 20\n",
    "\n",
    "dataset = load_dataset(\"code_x_glue_cc_code_completion_line\", \"python\", split=\"train\")\n",
    "\n",
    "pruned_dataset = []\n",
    "for i, input_seq in enumerate(dataset):\n",
    "    temp = input_seq[\"input\"]  # type: ignore\n",
    "    if len(temp) <= DATA_LEN:\n",
    "        pruned_dataset.append(temp)\n",
    "    if len(pruned_dataset) >= NUM_DATA:\n",
    "        break\n",
    "pd.DataFrame(pruned_dataset).describe()"
   ]
  },
  {
   "cell_type": "code",
   "execution_count": 3,
   "metadata": {},
   "outputs": [
    {
     "name": "stdout",
     "output_type": "stream",
     "text": [
      "Querying HF API, this will take a moment...\n",
      "Pipeline completed for pipe codeparrot/codeparrot-small<>6b166c3c-95ef-48ff-ab0f-3e90bc8d9c27\n"
     ]
    },
    {
     "data": {
      "text/html": [
       "\n",
       "        <iframe\n",
       "            width=\"100%\"\n",
       "            height=\"650\"\n",
       "            src=\"http://127.0.0.1:8050/\"\n",
       "            frameborder=\"0\"\n",
       "            allowfullscreen\n",
       "            \n",
       "        ></iframe>\n",
       "        "
      ],
      "text/plain": [
       "<IPython.lib.display.IFrame at 0x164981a60>"
      ]
     },
     "metadata": {},
     "output_type": "display_data"
    },
    {
     "name": "stdout",
     "output_type": "stream",
     "text": [
      "Processing codeparrot/codeparrot-small<>6b166c3c-95ef-48ff-ab0f-3e90bc8d9c27\n",
      "Please wait...\n",
      "Done!\n"
     ]
    }
   ],
   "source": [
    "WITCode(\"codeparrot/codeparrot-small\", pruned_dataset)"
   ]
  }
 ],
 "metadata": {
  "kernelspec": {
   "display_name": "Python 3 (ipykernel)",
   "language": "python",
   "name": "python3"
  },
  "language_info": {
   "codemirror_mode": {
    "name": "ipython",
    "version": 3
   },
   "file_extension": ".py",
   "mimetype": "text/x-python",
   "name": "python",
   "nbconvert_exporter": "python",
   "pygments_lexer": "ipython3",
   "version": "3.9.13"
  },
  "vscode": {
   "interpreter": {
    "hash": "ca5a367b871d3d9114338070f6c9e6601522ba0f3c2ff4e97677bd75c8f76b57"
   }
  }
 },
 "nbformat": 4,
 "nbformat_minor": 2
}
