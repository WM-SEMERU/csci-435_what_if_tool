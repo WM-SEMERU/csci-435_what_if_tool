{
 "cells": [
  {
   "cell_type": "code",
   "execution_count": 1,
   "metadata": {},
   "outputs": [],
   "source": [
    "# can modify with just module name when pip installed\n",
    "# from codewit_semeru import WITCode\n",
    "from src.codewit_semeru import WITCode\n",
    "%load_ext autoreload\n",
    "%autoreload 2\n"
   ]
  },
  {
   "cell_type": "code",
   "execution_count": 2,
   "metadata": {},
   "outputs": [
    {
     "name": "stderr",
     "output_type": "stream",
     "text": [
      "Found cached dataset code_x_glue_cc_code_completion_line (/Users/dtran/.cache/huggingface/datasets/code_x_glue_cc_code_completion_line/python/0.0.0/4ce8a216b87c5b130aad675f2bbf3612cc1f7fa5dbdc2fcb9c412765cf7830a7)\n"
     ]
    },
    {
     "data": {
      "text/plain": [
       "['<s> from __future__ import abs',\n",
       " '<s> import diamond . collector',\n",
       " '<s> try : <EOL> from cStringIO']"
      ]
     },
     "execution_count": 2,
     "metadata": {},
     "output_type": "execute_result"
    }
   ],
   "source": [
    "from datasets import load_dataset\n",
    "\n",
    "NUM_DATA = 3\n",
    "DATA_LEN = 30\n",
    "\n",
    "dataset = load_dataset(\"code_x_glue_cc_code_completion_line\", \"python\", split=\"train\")\n",
    "pruned_dataset = [elem[:DATA_LEN] for elem in dataset[\"input\"][:NUM_DATA]]\n",
    "pruned_dataset"
   ]
  },
  {
   "cell_type": "code",
   "execution_count": 3,
   "metadata": {},
   "outputs": [
    {
     "name": "stdout",
     "output_type": "stream",
     "text": [
      "gpt2<>gpt2<>af662047-6dfd-471f-9664-362c22166d86\n",
      "Pipeline completed for pipe gpt2<>gpt2<>af662047-6dfd-471f-9664-362c22166d86\n",
      "[{'label': 'd6574e94-1ed8-4c5e-bf28-62c5daa1d6a1', 'value': 'This is some chunk of code that I wish to analyze'}, {'label': 'd7717b80-52af-4efe-8ca7-cc1b95cf3790', 'value': 'Lorem ipsum dolor sit amet, consectetur adipiscing elit, sed do eiusmod tempor incididunt ut labore et dolore magna aliqua.'}, {'label': 'eda59a5b-7d90-4cc8-8d39-a3cbf2ce97c4', 'value': 'def foo(bar): print(bar) foo(123)'}, {'label': 'af662047-6dfd-471f-9664-362c22166d86', 'value': '<s> from __future__ import abs <s> import diamond . collector <s> try : <EOL> from cStringIO'}] <s> from __future__ import abs <s> import diamond . collector <s> try : <EOL> from cStringIO\n"
     ]
    },
    {
     "data": {
      "text/html": [
       "\n",
       "        <iframe\n",
       "            width=\"100%\"\n",
       "            height=\"650\"\n",
       "            src=\"http://127.0.0.1:8050/\"\n",
       "            frameborder=\"0\"\n",
       "            allowfullscreen\n",
       "            \n",
       "        ></iframe>\n",
       "        "
      ],
      "text/plain": [
       "<IPython.lib.display.IFrame at 0x1687e6400>"
      ]
     },
     "metadata": {},
     "output_type": "display_data"
    },
    {
     "name": "stdout",
     "output_type": "stream",
     "text": [
      "Processing gpt2<>gpt2<>809bd526-46e8-4a5e-87b1-22950ccb8446\n",
      "Please wait...\n",
      "pipeid:  gpt2<>gpt2<>7c50af3f-3c76-4693-885d-2a6c95298cf2\n",
      "gpt2<>gpt2<>6b5d8658-0b4a-4c45-8f1c-fe4b40af2b64\n"
     ]
    }
   ],
   "source": [
    "WITCode(\"gpt2\", \"gpt2\", pruned_dataset)"
   ]
  }
 ],
 "metadata": {
  "kernelspec": {
   "display_name": "Python 3.9.13 ('wit-env')",
   "language": "python",
   "name": "python3"
  },
  "language_info": {
   "codemirror_mode": {
    "name": "ipython",
    "version": 3
   },
   "file_extension": ".py",
   "mimetype": "text/x-python",
   "name": "python",
   "nbconvert_exporter": "python",
   "pygments_lexer": "ipython3",
   "version": "3.9.13"
  },
  "vscode": {
   "interpreter": {
    "hash": "ca5a367b871d3d9114338070f6c9e6601522ba0f3c2ff4e97677bd75c8f76b57"
   }
  }
 },
 "nbformat": 4,
 "nbformat_minor": 2
}
