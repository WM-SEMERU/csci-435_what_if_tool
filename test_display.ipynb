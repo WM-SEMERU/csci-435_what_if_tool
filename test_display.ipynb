{
 "cells": [
  {
   "cell_type": "code",
   "execution_count": null,
   "metadata": {},
   "outputs": [],
   "source": [
    "# can modify with just module name when pip installed\n",
    "# from codewit_semeru import WITCode\n",
    "from src.codewit_semeru import WITCode\n",
    "\n",
    "WITCode(\"gpt2\", \"gpt2\", \"This is some chunk of code that I wish to analyze\")"
   ]
  },
  {
   "cell_type": "code",
   "execution_count": null,
   "metadata": {},
   "outputs": [],
   "source": [
    "from datasets import load_dataset\n",
    "\n",
    "dataset = load_dataset(\"code_x_glue_cc_code_completion_line\", \"python\", split=\"train\")\n",
    "dataset\n"
   ]
  }
 ],
 "metadata": {
  "kernelspec": {
   "display_name": "Python 3.9.13 ('wit')",
   "language": "python",
   "name": "python3"
  },
  "language_info": {
   "codemirror_mode": {
    "name": "ipython",
    "version": 3
   },
   "file_extension": ".py",
   "mimetype": "text/x-python",
   "name": "python",
   "nbconvert_exporter": "python",
   "pygments_lexer": "ipython3",
   "version": "3.9.13"
  },
  "vscode": {
   "interpreter": {
    "hash": "f7cba909dfccb753a083b5c847ff0953a2f60d53a3ab0b04c3a3801e4b65b4b7"
   }
  }
 },
 "nbformat": 4,
 "nbformat_minor": 2
}
