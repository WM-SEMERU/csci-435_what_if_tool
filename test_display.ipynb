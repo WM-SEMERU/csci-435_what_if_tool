{
 "cells": [
  {
   "cell_type": "code",
   "execution_count": 1,
   "metadata": {},
   "outputs": [],
   "source": [
    "from codewit_semeru import WITCode\n",
    "%load_ext autoreload\n",
    "%autoreload 2\n"
   ]
  },
  {
   "cell_type": "code",
   "execution_count": 2,
   "metadata": {},
   "outputs": [
    {
     "name": "stderr",
     "output_type": "stream",
     "text": [
      "Found cached dataset code_x_glue_cc_code_completion_line (/Users/dtran/.cache/huggingface/datasets/code_x_glue_cc_code_completion_line/python/0.0.0/4ce8a216b87c5b130aad675f2bbf3612cc1f7fa5dbdc2fcb9c412765cf7830a7)\n"
     ]
    },
    {
     "data": {
      "text/plain": [
       "['<s> from __future__ import abs',\n",
       " '<s> import diamond . collector',\n",
       " '<s> try : <EOL> from cStringIO']"
      ]
     },
     "execution_count": 2,
     "metadata": {},
     "output_type": "execute_result"
    }
   ],
   "source": [
    "from datasets import load_dataset\n",
    "\n",
    "dataset = load_dataset(\"code_x_glue_cc_code_completion_line\", \"python\", split=\"train\")\n",
    "pruned_dataset = list(elem[:30] for elem in dataset['input'][0:3])\n",
    "pruned_dataset"
   ]
  },
  {
   "cell_type": "code",
   "execution_count": 3,
   "metadata": {},
   "outputs": [
    {
     "name": "stdout",
     "output_type": "stream",
     "text": [
      "codeparrot/codeparrot-small<>c6237d3e-86b4-4fdb-b65b-fe874c3a8a16\n"
     ]
    },
    {
     "name": "stderr",
     "output_type": "stream",
     "text": [
      "/Users/dtran/opt/anaconda3/envs/wit-env/lib/python3.9/site-packages/torch/amp/autocast_mode.py:198: UserWarning: User provided device_type of 'cuda', but CUDA is not available. Disabling\n",
      "  warnings.warn('User provided device_type of \\'cuda\\', but CUDA is not available. Disabling')\n"
     ]
    },
    {
     "name": "stdout",
     "output_type": "stream",
     "text": [
      "output_strs:  [['<s> from __future__ import absolutify\\n#\\n# This file is part of the Pyro project.\\n#\\n# Copyright (c) 2013-2020 Pyro Team\\n#\\n# Permission is hereby granted, free of charge, to any person obtaining a copy'], ['<s> import diamond. collectors.\\n\\nThe collectors are a list of collectors that are used to collect\\nthe data.  The collectors are used to collect the data from the\\ncollectors list.  The collectors are used to collect the data from'], ['<s> try : <EOL> from cStringIO.StringIO()\\n#\\n# The following code is a very simple example of how to use the\\n# \"with\" statement.  The example below is a simple example of how to\\n# use the \"with\" statement.  The example']]\n",
      "Pipeline completed for pipe codeparrot/codeparrot-small<>c6237d3e-86b4-4fdb-b65b-fe874c3a8a16\n"
     ]
    },
    {
     "data": {
      "text/html": [
       "\n",
       "        <iframe\n",
       "            width=\"100%\"\n",
       "            height=\"650\"\n",
       "            src=\"http://127.0.0.1:8050/\"\n",
       "            frameborder=\"0\"\n",
       "            allowfullscreen\n",
       "            \n",
       "        ></iframe>\n",
       "        "
      ],
      "text/plain": [
       "<IPython.lib.display.IFrame at 0x16a6da760>"
      ]
     },
     "metadata": {},
     "output_type": "display_data"
    },
    {
     "name": "stdout",
     "output_type": "stream",
     "text": [
      "Processing codeparrot/codeparrot-small<>c6237d3e-86b4-4fdb-b65b-fe874c3a8a16\n",
      "Please wait...\n",
      "\u001b[1;31m---------------------------------------------------------------------------\u001b[0m\n",
      "\u001b[1;31mValueError\u001b[0m                                Traceback (most recent call last)\n",
      "File \u001b[1;32m~/Documents/College 22-23/Software Engineering/csci-435_what_if_tool/codewit_semeru/frontend/display.py:41\u001b[0m, in \u001b[0;36mupdate_data_and_chart\u001b[1;34m(\n",
      "    FLAT_DUMMY=[{'label': '95345dde-7366-4405-8ae0-90d8f8b7759b', 'value': 'This is some chunk of code that I wish to analyze'}, {'label': '513e4d1f-3bb1-448b-9686-3977c7e8639a', 'value': 'Lorem ipsum dolor sit amet, consectetur adipisci...mpor incididunt ut labore et dolore magna aliqua.'}, {'label': 'a7ede0b9-dbc7-427b-ba98-dd74efffd4c1', 'value': 'def foo(bar): print(bar) foo(123)'}, {'label': 'c6237d3e-86b4-4fdb-b65b-fe874c3a8a16', 'value': '<s> from __future__ import abs <s> import diamond . collector <s> try : <EOL> from cStringIO'}],\n",
      "    selected_model='codeparrot/codeparrot-small',\n",
      "    selected_dataset=['<s> from __future__ import abs', '<s> import diamond . collector', '<s> try : <EOL> from cStringIO'],\n",
      "    selected_stat='mean'\n",
      ")\u001b[0m\n",
      "\u001b[0;32m     37\u001b[0m         selected_dataset \u001b[38;5;241m=\u001b[39m value\n",
      "\u001b[0;32m     39\u001b[0m \u001b[38;5;28mprint\u001b[39m(\n",
      "\u001b[0;32m     40\u001b[0m     \u001b[38;5;124mf\u001b[39m\u001b[38;5;124m\"\u001b[39m\u001b[38;5;124mProcessing \u001b[39m\u001b[38;5;132;01m{\u001b[39;00mPipeline\u001b[38;5;241m.\u001b[39mpipe_id(selected_model, selected_dataset_id)\u001b[38;5;132;01m}\u001b[39;00m\u001b[38;5;130;01m\\n\u001b[39;00m\u001b[38;5;124mPlease wait...\u001b[39m\u001b[38;5;124m\"\u001b[39m)\n",
      "\u001b[1;32m---> 41\u001b[0m df \u001b[38;5;241m=\u001b[39m \u001b[43mpreprocess\u001b[49m\u001b[43m(\u001b[49m\u001b[43mselected_model\u001b[49m\u001b[43m,\u001b[49m\u001b[43m \u001b[49m\u001b[43mselected_dataset\u001b[49m\u001b[43m,\u001b[49m\n",
      "        selected_model \u001b[1;34m= 'codeparrot/codeparrot-small'\u001b[0m\u001b[1;34m\n",
      "        \u001b[0mselected_dataset \u001b[1;34m= ['<s> from __future__ import abs', '<s> import diamond . collector', '<s> try : <EOL> from cStringIO']\u001b[0m\u001b[1;34m\n",
      "        \u001b[0mselected_dataset_id \u001b[1;34m= 'c6237d3e-86b4-4fdb-b65b-fe874c3a8a16'\u001b[0m\u001b[1;34m\n",
      "        \u001b[0mselected_stat \u001b[1;34m= 'mean'\u001b[0m\n",
      "\u001b[0;32m     42\u001b[0m \u001b[43m                \u001b[49m\u001b[43mselected_dataset_id\u001b[49m\u001b[43m,\u001b[49m\u001b[43m \u001b[49m\u001b[43mselected_stat\u001b[49m\u001b[43m)\u001b[49m\n",
      "\u001b[0;32m     43\u001b[0m \u001b[38;5;66;03m# print(\"\\ndf: \", df)\u001b[39;00m\n",
      "\u001b[0;32m     44\u001b[0m fig \u001b[38;5;241m=\u001b[39m px\u001b[38;5;241m.\u001b[39mbar(df, x\u001b[38;5;241m=\u001b[39m\u001b[38;5;124m\"\u001b[39m\u001b[38;5;124mfrequency\u001b[39m\u001b[38;5;124m\"\u001b[39m, y\u001b[38;5;241m=\u001b[39m\u001b[38;5;124m\"\u001b[39m\u001b[38;5;124mtoken\u001b[39m\u001b[38;5;124m\"\u001b[39m)\n",
      "\n",
      "File \u001b[1;32m~/Documents/College 22-23/Software Engineering/csci-435_what_if_tool/codewit_semeru/backend/model.py:34\u001b[0m, in \u001b[0;36mpreprocess\u001b[1;34m(\n",
      "    model='codeparrot/codeparrot-small',\n",
      "    dataset=['<s> from __future__ import abs', '<s> import diamond . collector', '<s> try : <EOL> from cStringIO'],\n",
      "    dataset_id='c6237d3e-86b4-4fdb-b65b-fe874c3a8a16',\n",
      "    stat='mean'\n",
      ")\u001b[0m\n",
      "\u001b[0;32m     30\u001b[0m \u001b[38;5;28;01melse\u001b[39;00m:\n",
      "\u001b[0;32m     31\u001b[0m     \u001b[38;5;28;01mraise\u001b[39;00m \u001b[38;5;167;01mValueError\u001b[39;00m(\n",
      "\u001b[0;32m     32\u001b[0m         \u001b[38;5;124m\"\u001b[39m\u001b[38;5;124mSupported statistics are mean, median, std dev, mode, max, and min. Please use one of them.\u001b[39m\u001b[38;5;124m\"\u001b[39m)\n",
      "\u001b[1;32m---> 34\u001b[0m output_tkn_freqs \u001b[38;5;241m=\u001b[39m {tkn: stats_func(freq)\n",
      "        stats_func \u001b[1;34m= <function mean at 0x158dca4c0>\u001b[0m\u001b[1;34m\n",
      "        \u001b[0mpipe \u001b[1;34m= <codewit_semeru.backend.pipeline.Pipeline object at 0x168b23a30>\u001b[0m\u001b[1;34m\n",
      "        \u001b[0mpipe.output_tok_freqs \u001b[1;34m= defaultdict(<class 'list'>, {'<': [1, 1, 1], 's': [1, 7, 1], '>': [1, 1, 2], 'Ġfrom': [1, 2, 1], 'Ġ__': [1, 0, 0], 'future': [1, 0, 0], '__': [1, 0, 0], 'Ġimport': [1, 1, 0], 'Ġabs': [1, 0, 0], 'ol': [1, 0, 0], 'uti': [1, 0, 0], 'fy': [1, 0, 0], 'Ċ': [6, 4, 4], '#': [6, 4, 0], 'ĠThis': [1, 0, 0], 'Ġfile': [1, 0, 0], 'Ġis': [2, 2, 0], 'Ġpart': [1, 0, 0], 'Ġof': [2, 1, 2], 'Ġthe': [1, 3, 2], 'ĠPy': [2, 0, 0], 'ro': [2, 0, 0], 'Ġproject': [1, 0, 0], '.': [1, 4, 3], 'ĠCopyright': [1, 0, 0], 'Ġ(': [1, 0, 0], 'c': [1, 0, 0], ')': [1, 0, 0], 'Ġ2013': [1, 0, 0], '-': [1, 0, 0], '2020': [1, 0, 0], 'ĠTeam': [1, 0, 0], 'ĠPermission': [1, 0, 0], 'Ġhereby': [1, 0, 0], 'Ġgranted': [1, 0, 0], ',': [2, 0, 0], 'Ġfree': [1, 0, 0], 'Ġcharge': [1, 0, 0], 'Ġto': [1, 3, 2], 'Ġany': [1, 0, 0], 'Ġperson': [1, 0, 0], 'Ġobtaining': [1, 0, 0], 'Ġa': [1, 1, 2], 'Ġcopy': [1, 0, 0], 'Ġdi': [1, 0, 0], 'amond': [1, 0, 0], 'Ġcollector': [5, 0, 0], 'The': [1, 0, 0], 'Ġare': [4, 0, 0], 'Ġlist': [2, 0, 0], 'Ġthat': [1, 0, 0], 'Ġused': [3, 0, 0], 'Ġcollect': [3, 0, 0], 'the': [1, 0, 0], 'Ġdata': [3, 0, 0], 'Ġ': [2, 2, 0], 'ĠThe': [2, 3, 0], 'collector': [1, 0, 0], 'Ġtry': [1, 0, 0], 'Ġ:': [1, 0, 0], 'Ġ<': [1, 0, 0], 'E': [1, 0, 0], 'OL': [1, 0, 0], 'ĠcStringIO': [1, 0, 0], 'StringIO': [1, 0, 0], '()': [1, 0, 0], 'Ġfollowing': [1, 0, 0], 'Ġcode': [1, 0, 0], 'Ġvery': [1, 0, 0], 'Ġsimple': [2, 0, 0], 'Ġexample': [4, 0, 0], 'Ġhow': [2, 0, 0], 'Ġuse': [2, 0, 0], 'Ġ\"': [2, 0, 0], 'with': [2, 0, 0], '\"': [2, 0, 0], 'Ġstatement': [2, 0, 0], 'Ġbelow': [1, 0, 0]})\u001b[0m\n",
      "\u001b[0;32m     35\u001b[0m                     \u001b[38;5;28;01mfor\u001b[39;00m tkn, freq \u001b[38;5;129;01min\u001b[39;00m pipe\u001b[38;5;241m.\u001b[39moutput_tok_freqs}\n",
      "\u001b[0;32m     36\u001b[0m token_freq \u001b[38;5;241m=\u001b[39m pd\u001b[38;5;241m.\u001b[39mDataFrame(output_tkn_freqs, columns\u001b[38;5;241m=\u001b[39m[\n",
      "\u001b[0;32m     37\u001b[0m                           \u001b[38;5;124m\"\u001b[39m\u001b[38;5;124mtoken\u001b[39m\u001b[38;5;124m\"\u001b[39m, \u001b[38;5;124m\"\u001b[39m\u001b[38;5;124mfrequency\u001b[39m\u001b[38;5;124m\"\u001b[39m])\u001b[38;5;241m.\u001b[39msort_values(by\u001b[38;5;241m=\u001b[39m\u001b[38;5;124m\"\u001b[39m\u001b[38;5;124mfrequency\u001b[39m\u001b[38;5;124m\"\u001b[39m, ascending\u001b[38;5;241m=\u001b[39m\u001b[38;5;28;01mFalse\u001b[39;00m)\n",
      "\u001b[0;32m     38\u001b[0m \u001b[38;5;28mprint\u001b[39m(\u001b[38;5;124mf\u001b[39m\u001b[38;5;124m\"\u001b[39m\u001b[38;5;124mtoken_freq for \u001b[39m\u001b[38;5;132;01m{\u001b[39;00mstat\u001b[38;5;132;01m}\u001b[39;00m\u001b[38;5;124m:\u001b[39m\u001b[38;5;130;01m\\n\u001b[39;00m\u001b[38;5;132;01m{\u001b[39;00mtoken_freq\u001b[38;5;132;01m}\u001b[39;00m\u001b[38;5;124m\"\u001b[39m)\n",
      "\n",
      "File \u001b[1;32m~/Documents/College 22-23/Software Engineering/csci-435_what_if_tool/codewit_semeru/backend/model.py:35\u001b[0m, in \u001b[0;36m<dictcomp>\u001b[1;34m(.0=<dict_keyiterator object>)\u001b[0m\n",
      "\u001b[0;32m     30\u001b[0m \u001b[38;5;28;01melse\u001b[39;00m:\n",
      "\u001b[0;32m     31\u001b[0m     \u001b[38;5;28;01mraise\u001b[39;00m \u001b[38;5;167;01mValueError\u001b[39;00m(\n",
      "\u001b[0;32m     32\u001b[0m         \u001b[38;5;124m\"\u001b[39m\u001b[38;5;124mSupported statistics are mean, median, std dev, mode, max, and min. Please use one of them.\u001b[39m\u001b[38;5;124m\"\u001b[39m)\n",
      "\u001b[0;32m     34\u001b[0m output_tkn_freqs \u001b[38;5;241m=\u001b[39m {tkn: stats_func(freq)\n",
      "\u001b[1;32m---> 35\u001b[0m                     \u001b[38;5;28;01mfor\u001b[39;00m tkn, freq \u001b[38;5;129;01min\u001b[39;00m pipe\u001b[38;5;241m.\u001b[39moutput_tok_freqs}\n",
      "        stats_func \u001b[1;34m= <function mean at 0x158dca4c0>\u001b[0m\n",
      "\u001b[0;32m     36\u001b[0m token_freq \u001b[38;5;241m=\u001b[39m pd\u001b[38;5;241m.\u001b[39mDataFrame(output_tkn_freqs, columns\u001b[38;5;241m=\u001b[39m[\n",
      "\u001b[0;32m     37\u001b[0m                           \u001b[38;5;124m\"\u001b[39m\u001b[38;5;124mtoken\u001b[39m\u001b[38;5;124m\"\u001b[39m, \u001b[38;5;124m\"\u001b[39m\u001b[38;5;124mfrequency\u001b[39m\u001b[38;5;124m\"\u001b[39m])\u001b[38;5;241m.\u001b[39msort_values(by\u001b[38;5;241m=\u001b[39m\u001b[38;5;124m\"\u001b[39m\u001b[38;5;124mfrequency\u001b[39m\u001b[38;5;124m\"\u001b[39m, ascending\u001b[38;5;241m=\u001b[39m\u001b[38;5;28;01mFalse\u001b[39;00m)\n",
      "\u001b[0;32m     38\u001b[0m \u001b[38;5;28mprint\u001b[39m(\u001b[38;5;124mf\u001b[39m\u001b[38;5;124m\"\u001b[39m\u001b[38;5;124mtoken_freq for \u001b[39m\u001b[38;5;132;01m{\u001b[39;00mstat\u001b[38;5;132;01m}\u001b[39;00m\u001b[38;5;124m:\u001b[39m\u001b[38;5;130;01m\\n\u001b[39;00m\u001b[38;5;132;01m{\u001b[39;00mtoken_freq\u001b[38;5;132;01m}\u001b[39;00m\u001b[38;5;124m\"\u001b[39m)\n",
      "\n",
      "\u001b[1;31mValueError\u001b[0m: not enough values to unpack (expected 2, got 1)\n",
      "\n"
     ]
    }
   ],
   "source": [
    "WITCode(\"codeparrot/codeparrot-small\", pruned_dataset)"
   ]
  }
 ],
 "metadata": {
  "kernelspec": {
   "display_name": "Python 3.9.13 ('wit')",
   "language": "python",
   "name": "python3"
  },
  "language_info": {
   "codemirror_mode": {
    "name": "ipython",
    "version": 3
   },
   "file_extension": ".py",
   "mimetype": "text/x-python",
   "name": "python",
   "nbconvert_exporter": "python",
   "pygments_lexer": "ipython3",
   "version": "3.9.13"
  },
  "vscode": {
   "interpreter": {
    "hash": "f7cba909dfccb753a083b5c847ff0953a2f60d53a3ab0b04c3a3801e4b65b4b7"
   }
  }
 },
 "nbformat": 4,
 "nbformat_minor": 2
}
