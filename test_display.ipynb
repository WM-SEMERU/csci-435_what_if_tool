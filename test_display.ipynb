{
 "cells": [
  {
   "cell_type": "code",
   "execution_count": null,
   "metadata": {},
   "outputs": [],
   "source": [
    "# can modify with just module name when pip installed\n",
    "# from codewit_semeru import WITCode\n",
    "from src.codewit_semeru import WITCode\n",
    "\n",
    "WITCode(\"gpt2\", \"gpt2\", \"This is some chunk of code that I wish to analyze\")"
   ]
  },
  {
   "cell_type": "code",
   "execution_count": 1,
   "metadata": {
    "scrolled": true
   },
   "outputs": [
    {
     "data": {
      "text/html": [
       "<div class=\"dropdown\">\n",
       "    <button onclick=\"myFunction()\" class=\"dropbtn\">Dropdown</button>\n",
       "    <div id=\"myDropdown\" class=\"dropdown-content\">\n",
       "      <a href=\"#\">Link 1</a>\n",
       "      <a href=\"#\">Link 2</a>\n",
       "      <a href=\"#\">Link 3</a>\n",
       "    </div>\n",
       "  </div>\n"
      ],
      "text/plain": [
       "<IPython.core.display.HTML object>"
      ]
     },
     "metadata": {},
     "output_type": "display_data"
    },
    {
     "data": {
      "text/html": [
       "<style>/* Dropdown Button */\n",
       ".dropbtn {\n",
       "    background-color: #3498DB;\n",
       "    color: white;\n",
       "    padding: 16px;\n",
       "    font-size: 16px;\n",
       "    border: none;\n",
       "    cursor: pointer;\n",
       "}\n",
       "\n",
       "/* Dropdown button on hover & focus */\n",
       ".dropbtn:hover, .dropbtn:focus {\n",
       "    background-color: #2980B9;\n",
       "}\n",
       "\n",
       "/* The container <div> - needed to position the dropdown content */\n",
       ".dropdown {\n",
       "    position: relative;\n",
       "    display: inline-block;\n",
       "}\n",
       "\n",
       "/* Dropdown Content (Hidden by Default) */\n",
       ".dropdown-content {\n",
       "    display: none;\n",
       "    position: absolute;\n",
       "    background-color: #f1f1f1;\n",
       "    min-width: 160px;\n",
       "    box-shadow: 0px 8px 16px 0px rgba(0,0,0,0.2);\n",
       "    z-index: 1;\n",
       "}\n",
       "\n",
       "/* Links inside the dropdown */\n",
       ".dropdown-content a {\n",
       "    color: black;\n",
       "    padding: 12px 16px;\n",
       "    text-decoration: none;\n",
       "    display: block;\n",
       "}\n",
       "\n",
       "/* Change color of dropdown links on hover */\n",
       ".dropdown-content a:hover {background-color: #ddd;}\n",
       "\n",
       "/* Show the dropdown menu (use JS to add this class to the .dropdown-content container when the user clicks on the dropdown button) */\n",
       ".show {display:block;}</style>"
      ],
      "text/plain": [
       "<IPython.core.display.HTML object>"
      ]
     },
     "metadata": {},
     "output_type": "display_data"
    },
    {
     "data": {
      "application/javascript": [
       "<script>/* When the user clicks on the button,\n",
       "toggle between hiding and showing the dropdown content */\n",
       "function myFunction() {\n",
       "    document.getElementById(\"myDropdown\").classList.toggle(\"show\");\n",
       "  }\n",
       "  \n",
       "  // Close the dropdown menu if the user clicks outside of it\n",
       "  window.onclick = function(event) {\n",
       "    if (!event.target.matches('.dropbtn')) {\n",
       "      var dropdowns = document.getElementsByClassName(\"dropdown-content\");\n",
       "      var i;\n",
       "      for (i = 0; i < dropdowns.length; i++) {\n",
       "        var openDropdown = dropdowns[i];\n",
       "        if (openDropdown.classList.contains('show')) {\n",
       "          openDropdown.classList.remove('show');\n",
       "        }\n",
       "      }\n",
       "    }\n",
       "  }</script>"
      ],
      "text/plain": [
       "<IPython.core.display.Javascript object>"
      ]
     },
     "metadata": {},
     "output_type": "display_data"
    }
   ],
   "source": [
    "from src.codewit_semeru import No_Dash_WIT\n",
    "\n",
    "No_Dash_WIT()"
   ]
  },
  {
   "cell_type": "code",
   "execution_count": null,
   "metadata": {},
   "outputs": [],
   "source": [
    "from datasets import load_dataset\n",
    "\n",
    "dataset = load_dataset(\"code_x_glue_cc_code_completion_line\", \"python\", split=\"train\")\n",
    "dataset\n"
   ]
  }
 ],
 "metadata": {
  "kernelspec": {
   "display_name": "Python 3 (ipykernel)",
   "language": "python",
   "name": "python3"
  },
  "language_info": {
   "codemirror_mode": {
    "name": "ipython",
    "version": 3
   },
   "file_extension": ".py",
   "mimetype": "text/x-python",
   "name": "python",
   "nbconvert_exporter": "python",
   "pygments_lexer": "ipython3",
   "version": "3.9.13"
  },
  "vscode": {
   "interpreter": {
    "hash": "f7cba909dfccb753a083b5c847ff0953a2f60d53a3ab0b04c3a3801e4b65b4b7"
   }
  }
 },
 "nbformat": 4,
 "nbformat_minor": 2
}
