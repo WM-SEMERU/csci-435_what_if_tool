{
 "cells": [
  {
   "cell_type": "code",
   "execution_count": null,
   "metadata": {},
   "outputs": [],
   "source": [
    "# can modify with just module name when pip installed\n",
    "# from codewit_semeru import WITCode\n",
    "from codewit_semeru import WITCode\n",
    "%load_ext autoreload\n",
    "%autoreload 2\n"
   ]
  },
  {
   "cell_type": "code",
   "execution_count": null,
   "metadata": {},
   "outputs": [],
   "source": [
    "from datasets import load_dataset\n",
    "\n",
    "DATA_LEN = 30\n",
    "NUM_DATA = 3\n",
    "\n",
    "dataset = load_dataset(\"code_x_glue_cc_code_completion_line\", \"python\", split=\"train\")\n",
    "pruned_dataset = list(elem[:DATA_LEN] for elem in dataset['input'][:NUM_DATA])\n",
    "pruned_dataset"
   ]
  },
  {
   "cell_type": "code",
   "execution_count": null,
   "metadata": {},
   "outputs": [],
   "source": [
    "WITCode(\"codeparrot/codeparrot-small\", pruned_dataset)"
   ]
  }
 ],
 "metadata": {
  "kernelspec": {
   "display_name": "Python 3.9.13 ('wit-env')",
   "language": "python",
   "name": "python3"
  },
  "language_info": {
   "codemirror_mode": {
    "name": "ipython",
    "version": 3
   },
   "file_extension": ".py",
   "mimetype": "text/x-python",
   "name": "python",
   "nbconvert_exporter": "python",
   "pygments_lexer": "ipython3",
   "version": "3.9.13"
  },
  "vscode": {
   "interpreter": {
    "hash": "ca5a367b871d3d9114338070f6c9e6601522ba0f3c2ff4e97677bd75c8f76b57"
   }
  }
 },
 "nbformat": 4,
 "nbformat_minor": 2
}
